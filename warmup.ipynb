{
 "cells": [
  {
   "cell_type": "markdown",
   "metadata": {},
   "source": [
    "# Jupyter Notebooks \n",
    "In a simple sense, Jupyter Notebooks are documents that consist of many _cells._ Some _cells_ are formatted text (Markdown, like this one), others can be used to execute Python code. Because we have already set up a _conda environment_ that includes the Python programming language, all we have to do is tell VS Code which environment to use and it will take care of sending the code in the Python cells to the environment so that they can be executed as desired. Then the _output_ from running that code is displayed in the space below the Python cell from which it was executed. Let's try it with a simple `print()` statement!\n",
    "\n",
    "Confirm that Python and your conda environment are working properly by running the cell below. If you did the installation correctly, this should involve the following:,\n",
    "    <ol>\n",
    "        <li>Click the triangular \"run\" icon next to the cell.</li>\n",
    "        <li>At the top of your VSC window you will be asked to select a Python environment. Choose the conda environment you just created, <code>mude-base</code></li>\n",
    "        <li>Confirm that the output of the cell is generated as expected.</li>\n",
    "        <li>That's it!</li>\n",
    "    </ol>\n",
    "\n",
    "_Note that you might also be prompted to install a few VSC extensions, if you did not already do so. Read the message carefully so you know what VSC is installing; however, note that you don't really have to do anything except hit \"yes\" because VSC is pretty good at getting Python to run on your computer._"
   ]
  },
  {
   "cell_type": "code",
   "execution_count": null,
   "metadata": {},
   "outputs": [],
   "source": [
    "import sys\n",
    "\n",
    "print(\"If you're connected to the mude-base environment,\\nit should show up in the path below:\\n\",sys.executable)"
   ]
  },
  {
   "cell_type": "markdown",
   "metadata": {},
   "source": [
    "# Warm-Up: Python Dictionaries\n",
    "\n",
    "In this section we use a Jupyter Notebook to briefly review and practice with dictionaries, a fundamental Python data type that is _extremely_ useful, but you probably don't remember from prior courses.\n",
    "\n",
    "The aim is to download this `*.ipynb` file and then run on your computer to make sure you have Python and Jupyter installed correctly in your IDE. \n",
    "\n",
    "This block is a markdown "
   ]
  },
  {
   "cell_type": "code",
   "execution_count": null,
   "metadata": {},
   "outputs": [],
   "source": [
    "engineers = {\n",
    "    'Nikola Tesla': 1856,\n",
    "    'Thomas Edison': 1847,\n",
    "    'Albert Einstein': 1879,\n",
    "    'Isaac Newton': 1643,\n",
    "    'Leonardo da Vinci': 1452,\n",
    "}\n",
    "\n",
    "for engineer, birth_year in engineers.items():\n",
    "    print(f'{engineer} was born in {birth_year}.')"
   ]
  },
  {
   "cell_type": "markdown",
   "metadata": {},
   "source": [
    "# Warm-Up: Example plots using matplotlib\n",
    "\n",
    "Matplotlib is a Python module that allows you to create visualizations. Until now, you have probably used Excel to make graphs, but Python offers much more versatility. In this section, you will learn how to use <b><code>matplotlib</code></b> to make good-looking graphs.\n",
    "\n",
    "As always, let's import the module. We will also import numpy and pandas."
   ]
  },
  {
   "cell_type": "code",
   "execution_count": null,
   "metadata": {},
   "outputs": [],
   "source": [
    "import matplotlib.pyplot as plt\n",
    "import numpy as np\n",
    "import pandas as pd"
   ]
  },
  {
   "cell_type": "markdown",
   "metadata": {},
   "source": [
    "From the <b><code>matplotlib</code></b> library, following functions would be used next:\n",
    "- <b><code>plt.subplot()</code></b>\n",
    "- <b><code>plt.plot()</code></b>\n",
    "- <b><code>plt.title()</code></b>\n",
    "- <b><code>plt.suptitle()</code></b>\n",
    "- <b><code>plt.xlabel()</code></b> and <b><code>plt.ylabel()</code></b>\n",
    "- <b><code>plt.xlim()</code></b> and <b><code>plt.ylim()</code></b>\n",
    "- <b><code>plt.legend()</code></b>\n",
    "- <b><code>plt.grid()</code></b>\n",
    "- <b><code>plt.show()</code></b>"
   ]
  },
  {
   "cell_type": "markdown",
   "metadata": {},
   "source": [
    "## Simple plot\n",
    "Let's start by creating a simple line plot of the equation $y=3x+5$. We will use numpy to create an array which acts as our x-axis"
   ]
  },
  {
   "cell_type": "code",
   "execution_count": null,
   "metadata": {},
   "outputs": [],
   "source": [
    "x = np.linspace(0,10)\n",
    "y = 3*x + 5\n",
    "\n",
    "plt.figure(figsize=(6,3))\n",
    "plt.plot(x, y)\n",
    "plt.xlabel('X-axis')\n",
    "plt.ylabel('Y-axis')\n",
    "plt.title('Line Plot')\n",
    "plt.show()\n"
   ]
  },
  {
   "cell_type": "markdown",
   "metadata": {},
   "source": [
    "`````{admonition} Let's break it down\n",
    "Here's a breakdown of what each line does:\n",
    "1. `x = np.linspace(0, 10)`: This line generates a sequence of evenly spaced numbers between 0 and 10. `np.linspace()` creates an array of numbers with a specified start and end point.\n",
    "2. `y = 3*x + 5`: This line calculates the values for the y-axis based on the values of x. It uses a simple equation `3*x + 5`, which means each y-value is obtained by multiplying the corresponding x-value by 3 and adding 5.\n",
    "3. `plt.figure(figsize=(6,3))`: This line creates a new figure (or plot) with a specified size. The `figsize` parameter sets the width and height of the figure. In this case, the width is 6 units and the height is 3 units.\n",
    "4. `plt.plot(x, y)`: This line plots the x and y values on the figure. It takes the x and y values as input and connects them with a line.\n",
    "5. `plt.xlabel('X-axis')`: This line sets the label for the x-axis of the plot to 'X-axis'.\n",
    "6. `plt.ylabel('Y-axis')`: This line sets the label for the y-axis of the plot to 'Y-axis'.\n",
    "7. `plt.title('Line Plot')`: This line sets the title of the plot to 'Line Plot'.\n",
    "8. `plt.show()`: This line displays the plot on the screen. `plt.show()` is a function that shows the plot that has been created.\n",
    "`````"
   ]
  },
  {
   "cell_type": "markdown",
   "metadata": {},
   "source": [
    "## Customizing the Plot\n",
    "\n",
    "`matplotlib` provides numerous options for customizing your plots. Let's make some modifications to our previous plot. "
   ]
  },
  {
   "cell_type": "code",
   "execution_count": null,
   "metadata": {},
   "outputs": [],
   "source": [
    "x = np.linspace(0,10)\n",
    "y = 3*x + 5\n",
    "\n",
    "plt.figure(figsize=(6,3))\n",
    "plt.plot(x, y)\n",
    "plt.xlabel('X-axis')\n",
    "plt.ylabel('Y-axis')\n",
    "plt.title('Line Plot')\n",
    "plt.show()\n",
    "\n",
    "plt.figure(figsize=(4,2))\n",
    "plt.plot(x, y, linestyle='--', linewidth=5, color='r')\n",
    "plt.xlim(2, 8) \n",
    "plt.ylim(15, 25)\n",
    "plt.xlabel('X-axis', fontsize=14, color='b')\n",
    "plt.ylabel('Y-axis', fontsize=14, color='b')\n",
    "plt.title('Customized plot', fontsize=18)\n",
    "plt.grid(True)\n",
    "plt.show()  "
   ]
  },
  {
   "cell_type": "markdown",
   "metadata": {},
   "source": [
    "## Scatter plot.\n",
    "\n",
    "A scatter plot is a type of plot used to display the relationship between two variables. In civil engineering, scatter plots can be used to analyze various aspects of data. Let's consider a scenario where civil engineers are studying the relationship between the compressive strength of concrete and the curing time. To investigate this relationship, the engineers collect data from concrete samples. For each sample, they measure the compressive strength after different curing times. The collected data might look like this:\n",
    "\n",
    "| Curing Time (days) | Compressive Strength (MPa) |\n",
    "|--------------------|----------------------------|\n",
    "| 3                  | 18                         |\n",
    "| 7                  | 28                         |\n",
    "| 14                 | 38                         |\n",
    "| 21                 | 46                         |\n",
    "| 28                 | 55                         |\n",
    "\n",
    "To visualize this data, the engineers can create a scatter plot, where the x-axis represents the curing time in days, and the y-axis represents the compressive strength in megapascals (MPa). Each data point in the plot corresponds to a specific curing time and the corresponding compressive strength. By examining the scatter plot, the civil engineers can observe the trend or pattern of the data points. They can determine if there is a correlation between curing time and compressive strength, and analyze how the strength changes with the increase in curing time. \n",
    "\n",
    "Let's create the corresponding scatter plot:"
   ]
  },
  {
   "cell_type": "code",
   "execution_count": null,
   "metadata": {},
   "outputs": [],
   "source": [
    "curing_time = [3,7,14,21,28]\n",
    "compressive_strength = [10,20,30,40,50]\n",
    "\n",
    "fig, ax = plt.subplots(figsize = (4,3))\n",
    "ax.scatter(curing_time, compressive_strength, color='black', s=100)\n",
    "ax.set_xlabel('Curing time (days)', fontsize=11)\n",
    "ax.set_ylabel('Compressive strength (MPa)', fontsize=11)\n",
    "plt.show()"
   ]
  },
  {
   "cell_type": "markdown",
   "metadata": {},
   "source": [
    "## Subplots.\n",
    "\n",
    "Below is an example to illustrate how to use these functions professionally. We will utilize numpy and matplotlib to generate multiple plots in a single figure. We create four subplots, each representing a different type of graph. In the first subplot, we create a line plot of the sine function, while in the second subplot, we display a line plot of the cosine function. Moving on to the third subplot, we generate a scatter plot of randomly generated points. Lastly, in the fourth subplot, we create a line plot with a filled area between the sine and cosine functions.\n",
    "\n",
    "To enhance the visual appeal, we customize each plot with titles, axis labels, and legends. Finally, we display the figure, presenting our multiple plots in an engaging and visually appealing manner."
   ]
  },
  {
   "cell_type": "code",
   "execution_count": null,
   "metadata": {},
   "outputs": [],
   "source": [
    "import numpy as np\n",
    "\n",
    "x = np.linspace(0, 2 * np.pi, 100)\n",
    "y_sin = np.sin(x)\n",
    "y_cos = np.cos(x)\n",
    "\n",
    "plt.figure(figsize=(10, 8))\n",
    "\n",
    "plt.subplot(2, 2, 1)\n",
    "plt.plot(x, y_sin, label='sin(x)')\n",
    "plt.title('Sine Function')\n",
    "plt.xlabel('x')\n",
    "plt.ylabel('y')\n",
    "plt.legend()\n",
    "\n",
    "plt.subplot(2, 2, 2)\n",
    "plt.plot(x, y_cos, label='cos(x)', color='r', linestyle='--')\n",
    "plt.title('Cosine Function')\n",
    "plt.xlabel('x')\n",
    "plt.ylabel('y')\n",
    "plt.legend()\n",
    "\n",
    "plt.subplot(2, 2, 3)\n",
    "x_points = np.random.rand(20) * 2 * np.pi\n",
    "y_points = np.random.rand(20) - 0.5\n",
    "plt.scatter(x_points, y_points, color='g', label='Points')\n",
    "plt.title('Scatter Plot')\n",
    "plt.xlabel('x')\n",
    "plt.ylabel('y')\n",
    "plt.legend()\n",
    "\n",
    "plt.subplot(2, 2, 4)\n",
    "plt.plot(x, y_sin, label='sin(x)', color='b', linestyle='-.')\n",
    "plt.plot(x, y_cos, label='cos(x)', color='r', linestyle=':')\n",
    "plt.fill_between(x, y_sin, y_cos, where=(y_sin >= y_cos), interpolate=True, alpha=0.3, color='purple')\n",
    "plt.fill_between(x, y_sin, y_cos, where=(y_sin <= y_cos), interpolate=True, alpha=0.3, color='orange')\n",
    "plt.title('Fill Between Lines')\n",
    "plt.xlabel('x')\n",
    "plt.ylabel('y')\n",
    "plt.legend()\n",
    "\n",
    "\n",
    "plt.suptitle('Multiple Plots')\n",
    "plt.tight_layout()\n",
    "\n",
    "plt.show()"
   ]
  }
 ],
 "metadata": {
  "kernelspec": {
   "display_name": "mude-base",
   "language": "python",
   "name": "python3"
  },
  "language_info": {
   "codemirror_mode": {
    "name": "ipython",
    "version": 3
   },
   "file_extension": ".py",
   "mimetype": "text/x-python",
   "name": "python",
   "nbconvert_exporter": "python",
   "pygments_lexer": "ipython3",
   "version": "3.12.11"
  }
 },
 "nbformat": 4,
 "nbformat_minor": 2
}
