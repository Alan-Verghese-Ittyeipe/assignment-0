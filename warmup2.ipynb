{
 "cells": [
  {
   "cell_type": "markdown",
   "metadata": {
    "colab_type": "text",
    "id": "gZB6B4X5Riud"
   },
   "source": [
    "# 1. Introduction\n",
    "The purpose of this notebook is to introduce and go over the basics of the Python programming language. We'll be looking at Python from the viewpoint of someone who has familiarity with programming already in a lower-level language like C or C++. This notebook was adapted from [Justin Johnson's Intro to Python tutorial](http://cs231n.github.io/python-numpy-tutorial/#python-containers) and [The Python Tutorial](https://docs.python.org/3/tutorial/index.html).\n",
    "\n",
    "\n",
    "\n"
   ]
  },
  {
   "cell_type": "markdown",
   "metadata": {
    "colab_type": "text",
    "id": "NlikIquaR_RB"
   },
   "source": [
    "## 1.1 What is Python?\n",
    "Python is a **high-level**, **dynamically typed** and **interpreted** language. For those without a CS background, the previous statement may seem a little too jargony, so lets unpack it. \n",
    "\n",
    "### 1.1.1 High-Level\n",
    "When we say a language is high-level, it generally means that it is a language with a lot more built in abstractions to hide some of the nastier parts of programming. A common practice is for people to prototype algorithms with high-level languages and then write faster implementations of those algorithms in a lower level language like C++. Throughout this notebook, we'll be making comparisons to C in order to give a better understanding of the advantages that a high-level language offers over a lower-level one. \n",
    "\n",
    "### 1.1.2 Interpreted Language\n",
    "Here lies the first difference between C and Python. In C, in order to run our code on our machines, we must first compile it. As a review, compiling a program means taking the language syntax and turning it into machine code that can actually run on your computer's processor. The problem with this approach is that you need to write your program and then compile it and then run it. This can be cumbersome when trying to do rapid prototyping of an algorithm. Python aims to fix this by interpreting lines of code. Interpreting simply means we can run a line of code as soon as we type it out. This happens to be how our IPython Notebooks work. For each cell of code that we run, the Python interpreter is called to run and execute each line. The advantage of this is that we can instantly see the results of each line of code as we are developing it. This makes it much easier to prototype a program and ensure its working. The below cell gives an example of how this works. You can run a cell by pressing the play button (Run button) or using the keyboard shortcut Shift + Enter.\n",
    "\n",
    "\n"
   ]
  },
  {
   "cell_type": "code",
   "execution_count": null,
   "metadata": {
    "colab": {
     "base_uri": "https://localhost:8080/",
     "height": 34
    },
    "colab_type": "code",
    "id": "oNam2uECUCJW",
    "outputId": "3f2102f2-c751-4ac9-83fd-fd759ac60ee7"
   },
   "outputs": [],
   "source": [
    "def quicksort(arr):\n",
    "    if len(arr) <= 1:\n",
    "        return arr\n",
    "    pivot = arr[len(arr) // 2]\n",
    "    left = [x for x in arr if x < pivot]\n",
    "    middle = [x for x in arr if x == pivot]\n",
    "    right = [x for x in arr if x > pivot]\n",
    "    return quicksort(left) + middle + quicksort(right)\n",
    "\n",
    "print(quicksort([3,6,8,10,1,2,1]))"
   ]
  },
  {
   "cell_type": "markdown",
   "metadata": {
    "colab_type": "text",
    "id": "MKf__AK6ulhl"
   },
   "source": [
    "You should immediately notice how simple the python syntax is. The design of the language is such that it should be like writing out pseudocode. Combined with Python's interpreter this makes for some very fast development as you can easily evaluate a statement to see what it does. As an example, lets say we don't quite understand whats going on in the statement \n",
    "\n",
    "```\n",
    "left = [x for x in arr if x < pivot]\n",
    "middle = [x for x in arr if x == pivot]\n",
    "right = [x for x in arr if x > pivot]\n",
    "```\n",
    "Then we can easily pull those lines out of our function and run them to see what they're doing.\n"
   ]
  },
  {
   "cell_type": "code",
   "execution_count": null,
   "metadata": {
    "colab": {
     "base_uri": "https://localhost:8080/",
     "height": 85
    },
    "colab_type": "code",
    "id": "E1GnZczVvIGV",
    "outputId": "47fcd976-a9b3-437b-aea8-39388b8db0fe"
   },
   "outputs": [],
   "source": [
    "arr = [3, 6, 8, 10, 1, 2, 1]\n",
    "pivot = arr[len(arr) // 2]\n",
    "print(\"Pivot Value: \", pivot)\n",
    "left = [x for x in arr if x < pivot]\n",
    "middle = [x for x in arr if x == pivot]\n",
    "right = [x for x in arr if x > pivot]\n",
    "print(\"Left: \", left)\n",
    "print(\"Right: \", right)\n",
    "print(\"Middle: \", middle)"
   ]
  },
  {
   "cell_type": "markdown",
   "metadata": {
    "colab_type": "text",
    "id": "ldMeWlwmT2vj"
   },
   "source": [
    "### 1.1.3 Dynamically Typed\n",
    "When we say a language is dynamically typed it means that our interpreter will determine what the type is for each variable, rather than have the programmer worry about it. In C for example, we would have to type something like \n",
    "\n",
    "```\n",
    "int x = 3\n",
    "```\n",
    "\n",
    "Python allows us to just declare a variable x, and let the language figure out what the type of x should be based on what we assign the variable x too. The below example illustrates how the python interpreter assigns types at runtime. In this case, since y is a decimal value the interpreter automatically makes it a floating point type."
   ]
  },
  {
   "cell_type": "code",
   "execution_count": null,
   "metadata": {
    "colab": {
     "base_uri": "https://localhost:8080/",
     "height": 51
    },
    "colab_type": "code",
    "id": "zTux_MJHRRiy",
    "outputId": "ae665c00-f0f4-4eb6-cb6b-03c12009f06c"
   },
   "outputs": [],
   "source": [
    "x = 1\n",
    "print(type(x))\n",
    "y = 1.5\n",
    "print(type(y))"
   ]
  },
  {
   "cell_type": "markdown",
   "metadata": {
    "colab_type": "text",
    "id": "RhDf20EjYhh4"
   },
   "source": [
    "#### Note:\n",
    "A common issue when debugging Python code is that the interpreter has inferred the wrong type for a variable you are working with, causing unforeseen results in your program. If you are struggling to find a logical issue with a large Python program, you should immediately look to use the type() function to verify that the types of your variables are what you expect. As a good practice, you should use an assert for proper type checking in the places of your code you feel its needed. "
   ]
  },
  {
   "cell_type": "code",
   "execution_count": null,
   "metadata": {
    "colab": {
     "base_uri": "https://localhost:8080/",
     "height": 252
    },
    "colab_type": "code",
    "id": "_MrSefhPYg2B",
    "outputId": "357bf5d7-5646-4d30-ee1d-10cb2a7261b3"
   },
   "outputs": [],
   "source": [
    "z = 5\n",
    "assert(type(x) is type(z))\n",
    "print(\"Correct Variable Typing\")\n",
    "assert type(x) is type(y), \"Mismatching types of variable\""
   ]
  },
  {
   "cell_type": "markdown",
   "metadata": {
    "colab_type": "text",
    "id": "WAkolozOI2I1"
   },
   "source": [
    "# 2. Basic Data Types in Python\n",
    "This module will cover all the different data types supported in base Python 3. \n",
    "## 2.1 Integer Types and Arithmetic Operators"
   ]
  },
  {
   "cell_type": "code",
   "execution_count": null,
   "metadata": {
    "colab": {
     "base_uri": "https://localhost:8080/",
     "height": 187
    },
    "colab_type": "code",
    "id": "OAb7QFf5XvqX",
    "outputId": "9a8db7ae-7369-467f-f6a7-41faee827562"
   },
   "outputs": [],
   "source": [
    "x = 3\n",
    "print(type(x)) # Prints \"<class 'int'>\"\n",
    "print(x)       # Prints \"3\"\n",
    "print(x + 1)   # Addition; prints \"4\"\n",
    "print(x - 1)   # Subtraction; prints \"2\"\n",
    "print(x * 2)   # Multiplication; prints \"6\"\n",
    "print(x ** 2)  # Exponentiation; prints \"9\"\n",
    "x += 1\n",
    "print(x)       # Prints \"4\"\n",
    "x *= 2\n",
    "print(x)       # Prints \"8\"\n",
    "y = 2.5\n",
    "print(type(y)) # Prints \"<class 'float'>\"\n",
    "print(y, y + 1, y * 2, y ** 2) # Prints \"2.5 3.5 5.0 6.25\""
   ]
  },
  {
   "cell_type": "markdown",
   "metadata": {
    "colab_type": "text",
    "id": "etquGmiLKbPF"
   },
   "source": [
    "Couple of things to note here compared to C/C++. First is that Python has built-in support for exponentiation compared to C and C++. Floats and Ints function the same as in C and C++. There is also no support for unary incrementers such as ``` x++ ``` or  ``` x--```. \n",
    "\n",
    "## 2.2 Complex Numbers and Operations in Python\n",
    "Python also has support for complex numbers. This a sparsely used, but important feature if you happen to be working with algorithms that rely on complex numbers.\n"
   ]
  },
  {
   "cell_type": "code",
   "execution_count": null,
   "metadata": {
    "colab": {
     "base_uri": "https://localhost:8080/",
     "height": 170
    },
    "colab_type": "code",
    "id": "T28jhdJEKKRP",
    "outputId": "c29d47e9-1ea0-4b66-a916-8334ec8c989b"
   },
   "outputs": [],
   "source": [
    "c_x = complex(3, 4)    # Declare a complex variable  \n",
    "print(c_x)\n",
    "print(type(c_x)) \n",
    "c_y = 2.5 + 4.3J       # Declare a complex number using a J or j\n",
    "c_z = 2.3 + 4.5j  \n",
    "print(c_y)\n",
    "print(type(c_y))       # Each syntax still constructs an equivalent complex number\n",
    "print(type(c_z))  \n",
    "print(c_x + c_y)       # Complex Numbers can still use the same arithmetic operators\n",
    "print(c_x * c_y)\n",
    "print(c_x.real)        # Can extract both the real and imaginary parts\n",
    "print(c_x.imag)\n",
    "print(c_x.conjugate()) # Can also see what the conjugate of our numbers our"
   ]
  },
  {
   "cell_type": "markdown",
   "metadata": {
    "colab_type": "text",
    "id": "-jB2QQkvNZQY"
   },
   "source": [
    "## 2.2 Booleans in Python\n",
    "Booleans in Python function exactly the same as in C, but their syntax is different. In this case, it uses english words - `and` and `or` rather than the typical `` || `` or `` && ``. "
   ]
  },
  {
   "cell_type": "code",
   "execution_count": null,
   "metadata": {
    "colab": {},
    "colab_type": "code",
    "id": "ueFFyGlPMAeQ"
   },
   "outputs": [],
   "source": [
    "t = True\n",
    "f = False\n",
    "print(type(t)) # Prints \"<class 'bool'>\"\n",
    "print(t and f) # Logical AND; prints \"False\"\n",
    "print(t or f)  # Logical OR; prints \"True\"\n",
    "print(not t)   # Logical NOT; prints \"False\"\n",
    "print(t != f)  # Logical XOR; prints \"True\"\n",
    "print(t == f)  # Logical Equality; prints \"False\""
   ]
  },
  {
   "cell_type": "markdown",
   "metadata": {
    "colab_type": "text",
    "id": "MZBwn2iON8Xr"
   },
   "source": [
    "## 2.3 Strings in Python\n",
    "Unlike C, Python has built-in support for strings. This makes it much easier to do text processing and file parsing, since Python has so many powerful builtin methods to process strings. This is another reason that Python is so popular for data science, because it can so easily parse a variety of different file formats using only builtin language functions."
   ]
  },
  {
   "cell_type": "code",
   "execution_count": null,
   "metadata": {
    "colab": {},
    "colab_type": "code",
    "id": "mw5QcrEPOZJz"
   },
   "outputs": [],
   "source": [
    "hello = 'hello'    # String literals can use single quotes\n",
    "world = \"world\"    # or double quotes; it does not matter.\n",
    "print(hello)       # Prints \"hello\"\n",
    "print(len(hello))  # String length; prints \"5\"\n",
    "hw = hello + ' ' + world  # String concatenation\n",
    "print(hw)          # prints \"hello world\"\n",
    "hw12 = '%s %s %d' % (hello, world, 12)  # sprintf style string formatting\n",
    "print(hw12)        # prints \"hello world 12\""
   ]
  },
  {
   "cell_type": "markdown",
   "metadata": {
    "colab_type": "text",
    "id": "Lk4DZQsZOjTr"
   },
   "source": [
    "### 2.3.1 Useful String Functions"
   ]
  },
  {
   "cell_type": "code",
   "execution_count": null,
   "metadata": {
    "colab": {},
    "colab_type": "code",
    "id": "RwSJoQnqOmVY"
   },
   "outputs": [],
   "source": [
    "s = \"hello\"\n",
    "print(s.capitalize())  # Capitalize a string; prints \"Hello\"\n",
    "print(s.upper())       # Convert a string to uppercase; prints \"HELLO\"\n",
    "print(s.rjust(7))      # Right-justify a string, padding with spaces; prints \"  hello\"\n",
    "print(s.center(7))     # Center a string, padding with spaces; prints \" hello \"\n",
    "print(s.replace('l', '(ell)'))  # Replace all instances of one substring with another; prints \"he(ell)(ell)o\"\n",
    "print('  world '.strip())  # Strip leading and trailing whitespace; prints \"world\""
   ]
  },
  {
   "cell_type": "markdown",
   "metadata": {
    "colab_type": "text",
    "id": "jIGoUdfkO6CL"
   },
   "source": [
    "Additional string functions are available in the [offical](https://docs.python.org/3.12/library/stdtypes.html#string-methods) Python documentation.\n"
   ]
  },
  {
   "cell_type": "markdown",
   "metadata": {
    "colab_type": "text",
    "id": "-Tx9BkFhPHNe"
   },
   "source": [
    "# 3. Data Structures in Python\n",
    "Python has a variety of useful data structures built into the language. This section will cover the 4 different types: lists, dictionaries, sets, and tuples. \n",
    "\n",
    "## 3.1 Lists\n",
    "Lists in Python are equivalent to arrays in C, but shares a little more similarity to a vector in C++, in the sense that lists in Python are resizable. They have a unique behavior compared to C++, because one array can contain elements of different types. This is generally true of all structures in Python and is another builtin advantage of the language."
   ]
  },
  {
   "cell_type": "code",
   "execution_count": null,
   "metadata": {
    "colab": {
     "base_uri": "https://localhost:8080/",
     "height": 102
    },
    "colab_type": "code",
    "id": "uWkm1KET5LWW",
    "outputId": "025ab125-94c8-4fe9-9cc4-5c5cb78678a5"
   },
   "outputs": [],
   "source": [
    "xs = [4, 5, 6]    \n",
    "print('Whole List: ', xs)  # Can print the whole list\n",
    "print('List 2nd element: ', xs[1])  # Individual elements through indexing\n",
    "print('Last element: ', xs[-1]) # Python supports negative indexing, -1 prints the last element     \n",
    "xs[2] = 'foo' # Lists can have multiple datatypes\n",
    "print(xs)         \n",
    "xs.append('bar') # And we can easily add elements\n",
    "print(xs)         \n",
    "x = xs.pop() # Remove the last element in the list      \n",
    "print(x, xs)      "
   ]
  },
  {
   "cell_type": "markdown",
   "metadata": {
    "colab_type": "text",
    "id": "hZugMe-f6CRm"
   },
   "source": [
    "For more specific details on lists, refer to [the documentation.](https://docs.python.org/3.5/tutorial/datastructures.html#more-on-lists)\n",
    "\n",
    "\n",
    "### 3.1.1 Slicing\n",
    "In addition to accessing list elements one at a time, Python provides concise syntax to access sublists; this is known as slicing."
   ]
  },
  {
   "cell_type": "code",
   "execution_count": null,
   "metadata": {
    "colab": {},
    "colab_type": "code",
    "id": "FRCrseUL5a5n"
   },
   "outputs": [],
   "source": [
    "nums = list(range(5))     # range is a built-in function that creates a list of integers\n",
    "print(nums)               \n",
    "print(nums[2:4])          # Get a slice from index 2 to 4 (exclusive); \n",
    "print(nums[2:])           # Get a slice from index 2 to the end; \n",
    "print(nums[:2])           # Get a slice from the start to index 2 (exclusive); \n",
    "print(nums[:])            # Get a slice of the whole list; \n",
    "print(nums[:-1])          # Slice indices can be negative; \n",
    "nums[2:4] = [8, 9]        # Assign a new sublist to a slice\n",
    "print(nums)               "
   ]
  },
  {
   "cell_type": "markdown",
   "metadata": {
    "colab_type": "text",
    "id": "_9j3VOTH8mug"
   },
   "source": [
    "### 3.1.2 Loops\n",
    "You can loop over elements of a list like this:"
   ]
  },
  {
   "cell_type": "code",
   "execution_count": null,
   "metadata": {
    "colab": {},
    "colab_type": "code",
    "id": "hfPuw5FV8zkG"
   },
   "outputs": [],
   "source": [
    "animals = ['cat', 'dog', 'monkey']\n",
    "for animal in animals:\n",
    "    print(animal)"
   ]
  },
  {
   "cell_type": "markdown",
   "metadata": {
    "colab_type": "text",
    "id": "-EMHRUNZ8__8"
   },
   "source": [
    "If you want access to the index while looping through a list, use the ``enumerate`` function."
   ]
  },
  {
   "cell_type": "code",
   "execution_count": null,
   "metadata": {
    "colab": {},
    "colab_type": "code",
    "id": "NWQhoar39O3q"
   },
   "outputs": [],
   "source": [
    "animals = ['cat', 'dog', 'monkey']\n",
    "for idx, animal in enumerate(animals):\n",
    "    print('#%d: %s' % (idx + 1, animal))"
   ]
  },
  {
   "cell_type": "markdown",
   "metadata": {
    "colab_type": "text",
    "id": "r2DlpqBi9iMQ"
   },
   "source": [
    "As you can see, it is much easier to iterate through a list in python, than a vector in C++, and even an array in C.\n",
    "\n",
    "### 3.1.3 List Comprehensions\n",
    "If we ever want to apply the same operation to every element in a list, we can use list comprehension. We can illustrate this by showing two different ways to square a list of numbers."
   ]
  },
  {
   "cell_type": "code",
   "execution_count": null,
   "metadata": {
    "colab": {
     "base_uri": "https://localhost:8080/",
     "height": 51
    },
    "colab_type": "code",
    "id": "THpkqflx-Ddm",
    "outputId": "52d08494-5f6b-43f0-91cf-5b1e2583d35e"
   },
   "outputs": [],
   "source": [
    "# Without List Comprehensions\n",
    "nums = list(range(5)) # Create a list from 0-4\n",
    "print(nums)\n",
    "squares = []\n",
    "for x in nums:\n",
    "  squares.append(x ** 2)\n",
    "print(squares)\n"
   ]
  },
  {
   "cell_type": "markdown",
   "metadata": {
    "colab_type": "text",
    "id": "ZRc2bboc-cJe"
   },
   "source": [
    "This can be done easier using list comprehension:"
   ]
  },
  {
   "cell_type": "code",
   "execution_count": null,
   "metadata": {
    "colab": {
     "base_uri": "https://localhost:8080/",
     "height": 34
    },
    "colab_type": "code",
    "id": "gjVCXZB3-IpQ",
    "outputId": "8e80c9e0-ffa2-465a-8639-c3a0de8b2fda"
   },
   "outputs": [],
   "source": [
    "# With List Comprehensions\n",
    "nums = list(range(5))\n",
    "squares = [x ** 2 for x in nums]\n",
    "print(squares)"
   ]
  },
  {
   "cell_type": "markdown",
   "metadata": {
    "colab_type": "text",
    "id": "QxoYwViU-2lg"
   },
   "source": [
    "We already saw how list comprehensions can be used to easily implement the quicksort algorithm in the earlier part of this notebook.\n",
    "\n",
    "## 3.2 Dictionaries\n",
    "Dictionaries in Python are equivalent to a map in C++. They store (key, value) pairs and allow efficient lookups for values mapped by keys. "
   ]
  },
  {
   "cell_type": "code",
   "execution_count": null,
   "metadata": {
    "colab": {
     "base_uri": "https://localhost:8080/",
     "height": 301
    },
    "colab_type": "code",
    "id": "rOHjD5cI-0T7",
    "outputId": "4f788525-c39b-4bbb-b111-e4d5df9569a7"
   },
   "outputs": [],
   "source": [
    "d = {'cat': 'cute', 'dog': 'furry'}  # Create a new dictionary with some data\n",
    "print(d)\n",
    "print(d['cat'])       # Get an entry from a dictionary, prints \"cute\"\n",
    "print('cat' in d)     # Check if a dictionary has a given key, prints \"True\"\n",
    "d['fish'] = 'wet'     # Set an entry in a dictionary\n",
    "print(d)\n",
    "print(d['fish'])\n",
    "del d['fish']         # Remove an element from a dictionary\n",
    "print(d.get('fish', 'N/A')) # \"fish\" is no longer a key\n",
    "print(d['monkey'])    # KeyError will be thrown"
   ]
  },
  {
   "cell_type": "markdown",
   "metadata": {
    "colab_type": "text",
    "id": "ZuCtqqyF__KC"
   },
   "source": [
    "### 3.2.1 Looping over dictionaries\n",
    "It is easy to iterate over the keys in a dictionary:"
   ]
  },
  {
   "cell_type": "code",
   "execution_count": null,
   "metadata": {
    "colab": {},
    "colab_type": "code",
    "id": "1JibnFnN_0aZ"
   },
   "outputs": [],
   "source": [
    "d = {'person': 2, 'cat': 4, 'spider': 8}\n",
    "for animal in d:\n",
    "    legs = d[animal]\n",
    "    print('A %s has %d legs' % (animal, legs))"
   ]
  },
  {
   "cell_type": "markdown",
   "metadata": {
    "colab_type": "text",
    "id": "gMfvIChMAfKj"
   },
   "source": [
    "If you want access to keys and their corresponding values, use the `items` method:"
   ]
  },
  {
   "cell_type": "code",
   "execution_count": null,
   "metadata": {
    "colab": {},
    "colab_type": "code",
    "id": "xyruuAhFAmCA"
   },
   "outputs": [],
   "source": [
    "d = {'person': 2, 'cat': 4, 'spider': 8}\n",
    "for animal, legs in d.items():\n",
    "    print('A %s has %d legs' % (animal, legs))"
   ]
  },
  {
   "cell_type": "markdown",
   "metadata": {
    "colab_type": "text",
    "id": "wEG2xQDXAnfw"
   },
   "source": [
    "### 3.2.2 Dictionary Comprehensions\n",
    "These are similar to list comprehensions, but allow you to easily construct dictionaries. For example:"
   ]
  },
  {
   "cell_type": "code",
   "execution_count": null,
   "metadata": {
    "colab": {},
    "colab_type": "code",
    "id": "lqjy6uloAuyu"
   },
   "outputs": [],
   "source": [
    "nums = [0, 1, 2, 3, 4]\n",
    "even_num_to_square = {x: x ** 2 for x in nums if x % 2 == 0}\n",
    "print(even_num_to_square)"
   ]
  },
  {
   "cell_type": "markdown",
   "metadata": {
    "colab_type": "text",
    "id": "c_HnPvIeAzpZ"
   },
   "source": [
    "## 3.3 Sets\n",
    "A set is an unordered collection of distinct elements. Sets are useful when you want to efficiently check if an element is in a set or not. For those familiar with the concept, the Python set is an implementation of a hash table. As a simple example, consider the following:"
   ]
  },
  {
   "cell_type": "code",
   "execution_count": null,
   "metadata": {
    "colab": {},
    "colab_type": "code",
    "id": "H2DXt6r-BK9h"
   },
   "outputs": [],
   "source": [
    "animals = {'cat', 'dog'}\n",
    "print('cat' in animals)   # Check if an element is in a set;\n",
    "print('fish' in animals)  \n",
    "animals.add('fish')       # Add an element to a set\n",
    "print('fish' in animals)  \n",
    "print(len(animals))       # Number of elements in a set; \n",
    "animals.add('cat')        # Adding an element that is already in the set does nothing\n",
    "print(len(animals))       \n",
    "animals.remove('cat')     # Remove an element from a set\n",
    "print(len(animals))       "
   ]
  },
  {
   "cell_type": "code",
   "execution_count": null,
   "metadata": {},
   "outputs": [],
   "source": [
    "# Another Example\n",
    "a = set('Marvelous')\n",
    "b = set('Mrs. Maisel')\n",
    "print(a)      # all unique letters in a\n",
    "print(a - b)  # letters in a but not in b\n",
    "print(b - a)  # letters in b but not in a\n",
    "print(a | b)  # letters in a or b or both\n",
    "print(a & b)  # letters in both a and b\n",
    "print(a ^ b)  # letters in a or b but not in both"
   ]
  },
  {
   "cell_type": "markdown",
   "metadata": {
    "colab_type": "text",
    "id": "EecyOrcNBsCk"
   },
   "source": [
    "### 3.3.1 Looping over Sets\n",
    "Iterating over a set has the same syntax as iterating over a list; however since sets are unordered, you cannot make assumptions about the order in which you visit the elements of the set:"
   ]
  },
  {
   "cell_type": "code",
   "execution_count": null,
   "metadata": {
    "colab": {},
    "colab_type": "code",
    "id": "DZCR0EjaB0Oc"
   },
   "outputs": [],
   "source": [
    "animals = {'cat', 'dog', 'fish'}\n",
    "for idx, animal in enumerate(animals):\n",
    "    print('#%d: %s' % (idx + 1, animal))"
   ]
  },
  {
   "cell_type": "markdown",
   "metadata": {
    "colab_type": "text",
    "id": "xqe-XWAQB5s6"
   },
   "source": [
    "### 3.3.2 Sets Comprehensions\n",
    "Like lists and dictionaries, we can easily construct sets using set comprehensions:"
   ]
  },
  {
   "cell_type": "code",
   "execution_count": null,
   "metadata": {
    "colab": {},
    "colab_type": "code",
    "id": "M7wIJ4ppC0RP"
   },
   "outputs": [],
   "source": [
    "from math import sqrt\n",
    "nums = {int(sqrt(x)) for x in range(30)}\n",
    "print(nums)"
   ]
  },
  {
   "cell_type": "markdown",
   "metadata": {
    "colab_type": "text",
    "id": "l_wGslh9C2RF"
   },
   "source": [
    "## 3.4 Tuples \n",
    "A tuple is an (immutable) ordered list of values. A tuple is in many ways similar to a list; one of the most important differences is that tuples can be used as keys in dictionaries and as elements of sets, while lists cannot. We can use tuples for keys because they are immutable. The value of a key in a set or dictionary should not be immutable. There is no really great analog to a tuple in C or C++, but Tuples and structs are used in much the same way. Quick and easy data abstraction to represent something without too much trouble. Here is a trivial example:"
   ]
  },
  {
   "cell_type": "code",
   "execution_count": null,
   "metadata": {
    "colab": {},
    "colab_type": "code",
    "id": "0RguKB1eDj79"
   },
   "outputs": [],
   "source": [
    "d = {(x, x + 1): x for x in range(10)}  # Create a dictionary with tuple keys\n",
    "t = (5, 6)        # Create a tuple\n",
    "print(type(t))    \n",
    "print(d[t])       \n",
    "print(d[(1, 2)])"
   ]
  },
  {
   "cell_type": "code",
   "execution_count": null,
   "metadata": {},
   "outputs": [],
   "source": [
    "t = 123, 456, 'abc'\n",
    "print(t[0])\n",
    "u = t, (1,2,3,4,5)\n",
    "print(u)\n",
    "print(type(u))\n",
    "t[0] = 19    # Tuples are immutable, will throw an error"
   ]
  },
  {
   "cell_type": "markdown",
   "metadata": {
    "colab_type": "text",
    "id": "Sndi-_gtD_w3"
   },
   "source": [
    "# 4. Functions\n",
    "Python functions are defined using the `def ` keyword. For example:"
   ]
  },
  {
   "cell_type": "code",
   "execution_count": null,
   "metadata": {},
   "outputs": [],
   "source": [
    "def say_hello():\n",
    "    print('Hello!')\n",
    "    \n",
    "say_hello()"
   ]
  },
  {
   "cell_type": "markdown",
   "metadata": {},
   "source": [
    "We can pass information to process as arguments:"
   ]
  },
  {
   "cell_type": "code",
   "execution_count": null,
   "metadata": {
    "colab": {},
    "colab_type": "code",
    "id": "wGg_1OplEOzg"
   },
   "outputs": [],
   "source": [
    "def sign(x):\n",
    "    if x > 0:\n",
    "        return 'positive'\n",
    "    elif x < 0:\n",
    "        return 'negative'\n",
    "    else:\n",
    "        return 'zero'\n",
    "\n",
    "for x in [-1, 0, 1]:\n",
    "    print(sign(x))"
   ]
  },
  {
   "cell_type": "markdown",
   "metadata": {},
   "source": [
    "> The **Fibonacci numbers**, $F_n$, named after the nickname given to Leonardo Pisano, or Leonardo of Pisa,  were actually studied as early as 200 BCE by Pingala (brother of Pāṇini), who used them to analyse the number of patterns in Sanskrit poetry.  \n",
    "\n",
    "They are defined by a two-term linear recurrence relation,\n",
    "\n",
    "$$F_{n}= F_{n-1} + F_{n-2}$$\n",
    "\n",
    "and two initial conditions that we will choose $F_0=0$ and $F_1=1$.  \n",
    "\n",
    "Here is a naïve function to print fibonacci sequence. "
   ]
  },
  {
   "cell_type": "code",
   "execution_count": null,
   "metadata": {},
   "outputs": [],
   "source": [
    "def fib1(n):\n",
    "    if n < 0:\n",
    "        raise ValueError(\"Input must be a non-negative integer\")\n",
    "    if n == 0:\n",
    "        return 0\n",
    "    f_n_minus_2, f_n_minus_1 = 0, 1 # initialize. Note the use of multiple assignment\n",
    "    for _ in range(2, n + 1):\n",
    "        f_n = f_n_minus_1 + f_n_minus_2\n",
    "        f_n_minus_2 = f_n_minus_1\n",
    "        f_n_minus_1 = f_n\n",
    "    return f_n\n",
    "\n",
    "print(fib1(9))"
   ]
  },
  {
   "cell_type": "markdown",
   "metadata": {},
   "source": [
    "Here is a simpler version that uses recursion."
   ]
  },
  {
   "cell_type": "code",
   "execution_count": null,
   "metadata": {},
   "outputs": [],
   "source": [
    "def fib2(n):\n",
    "    if n < 0:\n",
    "        raise ValueError(\"Input must be a non-negative integer\")\n",
    "    if n <= 1:\n",
    "        return n\n",
    "    return fib2(n-1) + fib2(n-2)\n",
    "\n",
    "print(fib2(9))"
   ]
  },
  {
   "cell_type": "markdown",
   "metadata": {},
   "source": [
    "Unlike C/C++, Python can have multiple return types"
   ]
  },
  {
   "cell_type": "code",
   "execution_count": null,
   "metadata": {},
   "outputs": [],
   "source": [
    "import statistics\n",
    "\n",
    "def find_stats(numbers):\n",
    "    mn = statistics.mean(numbers)\n",
    "    std = statistics.stdev(numbers)\n",
    "    \n",
    "    contains_two = 2 in numbers\n",
    "    \n",
    "    return mn, std, contains_two\n",
    "\n",
    "\n",
    "m, s, c = find_stats([4,6,8,3,4,2])\n",
    "\n",
    "print(m, s, c)        "
   ]
  },
  {
   "cell_type": "markdown",
   "metadata": {
    "colab_type": "text",
    "id": "sxtzT8zrESQA"
   },
   "source": [
    "We will often define functions to take optional keyword arguments, like this:\n",
    "\n"
   ]
  },
  {
   "cell_type": "code",
   "execution_count": null,
   "metadata": {
    "colab": {},
    "colab_type": "code",
    "id": "QuSQIyMdEWcm"
   },
   "outputs": [],
   "source": [
    "def hello(name, loud=False):\n",
    "    if loud:\n",
    "        print('HELLO, %s!' % name.upper())\n",
    "    else:\n",
    "        print('Hello, %s' % name)\n",
    "\n",
    "hello('Bob') \n",
    "hello('Fred', loud=True)"
   ]
  },
  {
   "cell_type": "markdown",
   "metadata": {
    "colab_type": "text",
    "id": "k8pnu63nEdX1"
   },
   "source": [
    "# 5. Classes & OOP\n",
    "\n",
    ">***For the purpose of MUDE, you do not need to use Classes & OOP. However, it is advised to go through the definition of class (Section 5.1).***\n",
    "\n",
    "Object Oriented Programming (OOP) is a structural concept of programming which focuses software design on objects and data rather than just logic and functions. In OOP we create objects which can contain both data and functions. Classes and objects are two core ideas of OOP. Essentially, a class is a template for an object and an object is an instance of a class. \n",
    "\n",
    "## 5.1 Defining a Class 'Athlete'\n",
    "The syntax for defining classes in Python is straightforward:\n"
   ]
  },
  {
   "cell_type": "code",
   "execution_count": null,
   "metadata": {
    "colab": {
     "base_uri": "https://localhost:8080/",
     "height": 34
    },
    "colab_type": "code",
    "id": "MvtIyrOJEkkE",
    "outputId": "125ce42c-1ad2-445a-dfe6-cc5d25366f6f"
   },
   "outputs": [],
   "source": [
    "# Class definition\n",
    "class Athlete:\n",
    "  \n",
    "    # Constructor\n",
    "    def __init__(self, fname, lname, age):\n",
    "        self.fname = fname\n",
    "        self.lname = lname\n",
    "        self.age = age\n",
    "\n",
    "    # Class Methods       \n",
    "    def say_hello(self):\n",
    "        print('hi, I am ', self.fname, self.lname)\n",
    "        \n",
    "        \n",
    "\n",
    "# Creating and using  Objects\n",
    "athlete1 = Athlete('Cristiano', 'Ronaldo', 36)   # Create an object athlete1\n",
    "athlete1.say_hello()                             # call class method\n",
    "print(athlete1.age)                              # print attribute\n",
    "print('---------------')\n",
    "athlete2 = Athlete('Roger', 'Federer', 40)       # Create another object of same class\n",
    "athlete2.say_hello()\n",
    "print(athlete2.age)"
   ]
  },
  {
   "cell_type": "markdown",
   "metadata": {
    "colab_type": "text",
    "id": "wZtzM0avGU29"
   },
   "source": [
    "As a note, everything by default in a Python class is `public`. This is obviously an increased security risk, so Python is relying on programmer responsibility. That means that you as the programmer should take time to ensure your programs are secure. (A solution will be discussed in section 5.3.3: Encapsulation)"
   ]
  },
  {
   "cell_type": "markdown",
   "metadata": {},
   "source": [
    "## 5.2 Variables\n",
    "### 5.2.1 Instance vs Class variables\n",
    "Class variables are for attributes and methods shared by all instances of the class. Instance variables are for data unique to each instance. Here is an example:"
   ]
  },
  {
   "cell_type": "code",
   "execution_count": null,
   "metadata": {},
   "outputs": [],
   "source": [
    "class Athlete:\n",
    "    sport = 'football'          # Class variable shared by all instances\n",
    "    \n",
    "    def __init__(self, name):\n",
    "        self.name = name       # Instance variable unique to each instance\n",
    "        \n",
    "\n",
    "player1 = Athlete('Messi')\n",
    "player2 = Athlete('Ronaldo')\n",
    "\n",
    "print(player1.sport)          # Shared by all Athletes\n",
    "print(player1.sport)          # Shared by all Athletes\n",
    "print(player1.name)           # unique to player1\n",
    "print(player2.name)           # unique to player2"
   ]
  },
  {
   "cell_type": "markdown",
   "metadata": {},
   "source": [
    "## 5.3 The Four Pillars of OOP\n",
    "\n",
    ">***Once again, for the purpose of MUDE, you do not need OOP. However, this is strongly recommended for students who have some programming experience.***\n",
    "\n",
    "The four pillars of OOP are ***Inheritance***, ***Encapsulation***, ***Abstraction*** and ***Polymorphism***. For the purpose of this class, we will only need to utilize inheritance and polymorphism. Hence, ***Encapsulation and Abstraction sections are optional to read.***\n",
    "\n",
    "### 5.3.1 Inheritance\n",
    "Classes are often interacting with other classes. In fact, some may share key features with others and we would wan to have them share these features at a programmable level. Inheritance allows a class (derived class) to aquire properties of another class (base class). \n",
    "\n",
    "Let us take this the following example of a sports player class. The base class `Athlete` is common to dervied classe (`Footballplayer`, `BasketballPlayer`), and contain all common features to all players such as a name. However, we can have classes with different sports and their individual methods and attributes."
   ]
  },
  {
   "cell_type": "code",
   "execution_count": null,
   "metadata": {},
   "outputs": [],
   "source": [
    "# Base Class\n",
    "class Athlete:\n",
    "    \n",
    "    profession = 'Athlete'\n",
    "    \n",
    "    def __init__(self, fname, lname):\n",
    "        self.fname = fname\n",
    "        self.lname = lname\n",
    "    \n",
    "    def print_name(self):\n",
    "        print(self.fname, self.lname)\n",
    "        \n",
    "\n",
    "# Derived Class\n",
    "class FootballPlayer(Athlete):\n",
    "  \n",
    "    def __init__(self, fname, lname, position):\n",
    "        super().__init__(fname, lname)\n",
    "        self.position = position\n",
    "    \n",
    "    def volley(self):\n",
    "        print('Volley shot!')\n",
    "    \n",
    "\n",
    "ub = Athlete('Roger', 'Federer')\n",
    "cr = FootballPlayer('Cristiano', 'Ronaldo', 'Striker')\n",
    "\n",
    "ub.print_name()       # Base class print_name() method\n",
    "print(ub.profession)  # Shared class attribute\n",
    "print('----------------')\n",
    "cr.print_name()       # Derived class inherits parent print_name() method\n",
    "print(cr.profession)  # Derived class inherits class attribute\n",
    "print( cr.position)\n",
    "cr.volley()           # method specific to FootballPlayer class, cannot be called\n",
    "print('----------------')\n",
    "ub.volley()          # Will throw error as 'a' is an Athlete object, does not have volley() method"
   ]
  },
  {
   "cell_type": "markdown",
   "metadata": {},
   "source": [
    "### 5.3.2 Polymorphism\n",
    "Polymorphism is the ability for a derived class to define its own unique behavior and still share the same functionalities as its base class. Let us take the same classes as the previous example, and demonstrate polymorphism through the method `speak()`"
   ]
  },
  {
   "cell_type": "code",
   "execution_count": null,
   "metadata": {},
   "outputs": [],
   "source": [
    "# Base Class\n",
    "class Athlete:\n",
    "    \n",
    "    profession = 'Athlete'\n",
    "    \n",
    "    def __init__(self, fname, lname):\n",
    "        self.fname = fname\n",
    "        self.lname = lname\n",
    "        \n",
    "    def speak(self):\n",
    "        print('Hi, I am ', self.fname, self.lname)\n",
    "        print('I am an Athlete')\n",
    "        \n",
    "\n",
    "# Derived Class\n",
    "class FootballPlayer(Athlete):\n",
    "    \n",
    "    sport = 'Football'\n",
    "    \n",
    "    def __init__(self, fname, lname, position):\n",
    "        super().__init__(fname, lname)\n",
    "        self.position = position\n",
    "        \n",
    "    def speak(self):\n",
    "        print('Hi, I am ', self.fname, self.lname)\n",
    "        print(\"I play \", self.sport)\n",
    "        \n",
    "class BasketballPlayer(Athlete):\n",
    "    pass\n",
    "        \n",
    "\n",
    "ub = Athlete('Roger', 'Federer')\n",
    "cr = FootballPlayer('Cristiano', 'Ronaldo', 'Striker')\n",
    "lj = BasketballPlayer('Lebron', 'James')\n",
    "\n",
    "ub.speak()            # Base class speak() method\n",
    "print('----------------')\n",
    "cr.speak()            # Derived class speak() method\n",
    "print('----------------')\n",
    "lj.speak()            # Derived class speak() method"
   ]
  },
  {
   "cell_type": "markdown",
   "metadata": {},
   "source": [
    "### 5.3.3 Encapsulation & Abstraction\n",
    "Encapsulation is wrapping up data and member methods/functions together into a single unit (class). It is also to achieve the concept of data hiding and providing security to valuable data by making variables public/private/protected.\n",
    "\n",
    "Abstraction is the process of showing only essential/important features of an object to the outside world. It is an extension of Encapsulation.\n",
    "\n",
    "As we mentioned earlier, by default in python things are public. However, if we want to restrict access to class mehthods and attributes, we can do so using `__` for private and `_` for protected. \n",
    "\n",
    "Here is an example of using private attributes:"
   ]
  },
  {
   "cell_type": "code",
   "execution_count": null,
   "metadata": {},
   "outputs": [],
   "source": [
    "class Student:\n",
    "    __university = 'IIT Madras'                # private class attribute\n",
    "    \n",
    "    def __init__(self, fname, lname, age):\n",
    "        self.fname = fname\n",
    "        self.lname = lname\n",
    "        self.__age = age                # private instance attribute\n",
    "\n",
    "        \n",
    "st = Student('Joe', 'Jonas', 22)       # Create Student\n",
    "print(st.fname, st.lname)\n",
    "print(st.age)                          # Error as age is a private instance attribute"
   ]
  },
  {
   "cell_type": "markdown",
   "metadata": {},
   "source": [
    "In this scenario, `university` and `age` are private class and instance attributes respectively. In order to have access to them outside the class, we have to use getter (get an attribute) and setter (set an attribute) methods. Let us modify the previous class to add getter and setters for instance attribute `age`. \n",
    "\n",
    "The `property` decorator is used for getter, and `<attribute_name>.setter` for setter. The function definition ***must be the same name as the attribute***(Note: class attribute `university` would be done in the same fashion)"
   ]
  },
  {
   "cell_type": "code",
   "execution_count": null,
   "metadata": {},
   "outputs": [],
   "source": [
    "class Student(object):\n",
    "    __university = 'IIT Madras'\n",
    "    \n",
    "    def __init__(self, fname, lname, age):\n",
    "        self.fname = fname\n",
    "        self.lname = lname\n",
    "        self.__age = age\n",
    "        \n",
    "    # Getter function - using property decorator\n",
    "    @property\n",
    "    def age(self):\n",
    "        return self.__age\n",
    "    \n",
    "    # Setter function\n",
    "    @age.setter\n",
    "    def age(self, age):\n",
    "        self.__age = age\n",
    "        \n",
    "st = Student('Joe', 'Jonas', 22)   # Create Student\n",
    "print(st.fname, st.lname)\n",
    "print(st.age)"
   ]
  }
 ],
 "metadata": {
  "colab": {
   "collapsed_sections": [],
   "name": "Intro2Python.ipynb",
   "provenance": []
  },
  "kernelspec": {
   "display_name": "mude-base",
   "language": "python",
   "name": "python3"
  },
  "language_info": {
   "codemirror_mode": {
    "name": "ipython",
    "version": 3
   },
   "file_extension": ".py",
   "mimetype": "text/x-python",
   "name": "python",
   "nbconvert_exporter": "python",
   "pygments_lexer": "ipython3",
   "version": "3.12.11"
  }
 },
 "nbformat": 4,
 "nbformat_minor": 1
}
